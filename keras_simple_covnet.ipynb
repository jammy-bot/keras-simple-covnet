{
  "nbformat": 4,
  "nbformat_minor": 0,
  "metadata": {
    "colab": {
      "name": "keras-simple-covnet.ipynb",
      "provenance": [],
      "collapsed_sections": [],
      "toc_visible": true,
      "machine_shape": "hm",
      "mount_file_id": "https://github.com/jammy-bot/keras-simple-covnet/blob/master/keras_simple_covnet.ipynb",
      "authorship_tag": "ABX9TyMLGzPaPvll/zEsevHYK4SG",
      "include_colab_link": true
    },
    "kernelspec": {
      "name": "python3",
      "display_name": "Python 3"
    },
    "accelerator": "GPU"
  },
  "cells": [
    {
      "cell_type": "markdown",
      "metadata": {
        "id": "view-in-github",
        "colab_type": "text"
      },
      "source": [
        "<a href=\"https://colab.research.google.com/github/jammy-bot/keras-simple-covnet/blob/master/keras_simple_covnet.ipynb\" target=\"_parent\"><img src=\"https://colab.research.google.com/assets/colab-badge.svg\" alt=\"Open In Colab\"/></a>"
      ]
    },
    {
      "cell_type": "markdown",
      "metadata": {
        "id": "0NjWJM4W25me",
        "colab_type": "text"
      },
      "source": [
        "# Build a Neural Network for the MNIST image classification dataset, with a hidden Convolutional layer, a hidden Dense layer, and Dropout layers."
      ]
    },
    {
      "cell_type": "code",
      "metadata": {
        "id": "jX4jzhpWh6GG",
        "colab_type": "code",
        "colab": {
          "base_uri": "https://localhost:8080/",
          "height": 34
        },
        "outputId": "6aa3754c-b128-414e-8f2f-bf2f268fa2ce"
      },
      "source": [
        "# importing required libraries\n",
        "from __future__ import print_function\n",
        "import keras\n",
        "from keras.datasets import mnist\n",
        "from keras.models import Sequential\n",
        "from keras.layers import Dense, Dropout, Flatten\n",
        "from keras.layers import Conv2D, MaxPooling2D\n",
        "from keras import backend as K\n",
        "import numpy as np\n",
        "\n",
        "# batching data for training\n",
        "batch_size = 128\n",
        "num_classes = 10\n",
        "epochs = 12\n",
        "\n",
        "# inputting image dimensions\n",
        "img_rows, img_cols = 28, 28\n",
        "\n",
        "# splitting the data between train and test sets\n",
        "(x_train, y_train), (x_test, y_test) = mnist.load_data()"
      ],
      "execution_count": 1,
      "outputs": [
        {
          "output_type": "stream",
          "text": [
            "Using TensorFlow backend.\n"
          ],
          "name": "stderr"
        }
      ]
    },
    {
      "cell_type": "code",
      "metadata": {
        "id": "Ae32wYRIbEhY",
        "colab_type": "code",
        "colab": {}
      },
      "source": [
        "# import visualization library\n",
        "import matplotlib.pyplot as plt\n",
        "%matplotlib inline"
      ],
      "execution_count": 2,
      "outputs": []
    },
    {
      "cell_type": "code",
      "metadata": {
        "id": "H5bGHE43fQwg",
        "colab_type": "code",
        "colab": {
          "base_uri": "https://localhost:8080/",
          "height": 34
        },
        "outputId": "e24cf864-6f71-48d5-8df9-f129d5d91fcc"
      },
      "source": [
        "# np.random(rand_int(len(y_train)))\n",
        "\n",
        "np.random.randint(len(y_train))"
      ],
      "execution_count": 3,
      "outputs": [
        {
          "output_type": "execute_result",
          "data": {
            "text/plain": [
              "31925"
            ]
          },
          "metadata": {
            "tags": []
          },
          "execution_count": 3
        }
      ]
    },
    {
      "cell_type": "code",
      "metadata": {
        "id": "XI-M0zOXiCDX",
        "colab_type": "code",
        "colab": {
          "base_uri": "https://localhost:8080/",
          "height": 548
        },
        "outputId": "d2367903-ae9a-4be3-c44c-0c870983d967"
      },
      "source": [
        "# displaying a random element from the training set and its label\n",
        "element = np.random.randint(len(y_train))\n",
        "plt.imshow(x_train[element])\n",
        "plt.show()\n",
        "print(\"Label for the element\", element,\":\", y_train[element])\n",
        "\n",
        "# displaying a random element from the training set and its label\n",
        "element = np.random.randint(len(y_train))\n",
        "plt.imshow(x_train[element])\n",
        "plt.show()\n",
        "print(\"Label for the element\", element,\":\", y_train[element])"
      ],
      "execution_count": 4,
      "outputs": [
        {
          "output_type": "display_data",
          "data": {
            "image/png": "[encoded data removed]",
            "text/plain": [
              "<Figure size 432x288 with 1 Axes>"
            ]
          },
          "metadata": {
            "tags": [],
            "needs_background": "light"
          }
        },
        {
          "output_type": "stream",
          "text": [
            "Label for the element 8853 : 2\n"
          ],
          "name": "stdout"
        },
        {
          "output_type": "display_data",
          "data": {
            "image/png": "[encoded data removed]",
            "text/plain": [
              "<Figure size 432x288 with 1 Axes>"
            ]
          },
          "metadata": {
            "tags": [],
            "needs_background": "light"
          }
        },
        {
          "output_type": "stream",
          "text": [
            "Label for the element 24555 : 1\n"
          ],
          "name": "stdout"
        }
      ]
    },
    {
      "cell_type": "markdown",
      "metadata": {
        "id": "WI66pwyXngh8",
        "colab_type": "text"
      },
      "source": [
        "## Prepare Training Data"
      ]
    },
    {
      "cell_type": "markdown",
      "metadata": {
        "id": "MgBY7nppjsK6",
        "colab_type": "text"
      },
      "source": [
        "Reshape for training on GPU"
      ]
    },
    {
      "cell_type": "code",
      "metadata": {
        "id": "oKp9hrmxiOwk",
        "colab_type": "code",
        "colab": {}
      },
      "source": [
        "## reshaping (conditionally)\n",
        "if K.image_data_format() == 'channels_first':\n",
        "    x_train = x_train.reshape(x_train.shape[0], 1, img_rows, img_cols)\n",
        "    x_test = x_test.reshape(x_test.shape[0], 1, img_rows, img_cols)\n",
        "    input_shape = (1, img_rows, img_cols)\n",
        "else:\n",
        "    x_train = x_train.reshape(x_train.shape[0], img_rows, img_cols, 1)\n",
        "    x_test = x_test.reshape(x_test.shape[0], img_rows, img_cols, 1)\n",
        "    input_shape = (img_rows, img_cols, 1)\n"
      ],
      "execution_count": 5,
      "outputs": []
    },
    {
      "cell_type": "markdown",
      "metadata": {
        "id": "sp0ScR7Mj4fV",
        "colab_type": "text"
      },
      "source": [
        "Normalize data and convert for use with categorical_crossentropy"
      ]
    },
    {
      "cell_type": "code",
      "metadata": {
        "id": "Qw2W_T7LiW7K",
        "colab_type": "code",
        "colab": {
          "base_uri": "https://localhost:8080/",
          "height": 70
        },
        "outputId": "9fcad11a-29b5-43a7-b696-2b36be94b962"
      },
      "source": [
        "x_train = x_train.astype('float32')\n",
        "x_test = x_test.astype('float32')\n",
        "x_train /= 255\n",
        "x_test /= 255\n",
        "print('x_train shape:', x_train.shape)\n",
        "print(x_train.shape[0], 'train samples')\n",
        "print(x_test.shape[0], 'test samples')\n",
        "# converting class vectors to binary class matrices\n",
        "y_train = keras.utils.to_categorical(y_train, num_classes)\n",
        "y_test = keras.utils.to_categorical(y_test, num_classes)"
      ],
      "execution_count": 6,
      "outputs": [
        {
          "output_type": "stream",
          "text": [
            "x_train shape: (60000, 28, 28, 1)\n",
            "60000 train samples\n",
            "10000 test samples\n"
          ],
          "name": "stdout"
        }
      ]
    },
    {
      "cell_type": "markdown",
      "metadata": {
        "id": "RAC1XBqun1kf",
        "colab_type": "text"
      },
      "source": [
        "## Build the Network"
      ]
    },
    {
      "cell_type": "markdown",
      "metadata": {
        "id": "yS7cS4ZtkfcJ",
        "colab_type": "text"
      },
      "source": [
        "Define the Network Architecture and Compile the Model"
      ]
    },
    {
      "cell_type": "code",
      "metadata": {
        "id": "bPTkBJrligB2",
        "colab_type": "code",
        "colab": {}
      },
      "source": [
        "# building the network\n",
        "model = Sequential()\n",
        "model.add(Conv2D(32, kernel_size=(3, 3),\n",
        "                 activation='relu',\n",
        "                 input_shape=input_shape))\n",
        "model.add(Conv2D(64, (3, 3), activation='relu'))\n",
        "model.add(MaxPooling2D(pool_size=(2, 2)))\n",
        "model.add(Dropout(0.25))\n",
        "model.add(Flatten())\n",
        "model.add(Dense(128, activation='relu'))\n",
        "model.add(Dropout(0.5))\n",
        "model.add(Dense(num_classes, activation='softmax'))\n",
        "\n",
        "model.compile(loss=keras.losses.categorical_crossentropy,\n",
        "              optimizer=keras.optimizers.Adadelta(),\n",
        "              metrics=['accuracy'])"
      ],
      "execution_count": 7,
      "outputs": []
    },
    {
      "cell_type": "code",
      "metadata": {
        "id": "QyQEAppm5DRy",
        "colab_type": "code",
        "colab": {
          "base_uri": "https://localhost:8080/",
          "height": 443
        },
        "outputId": "8f882ef8-ae7d-4d8e-d2c4-d3c74c75ac34"
      },
      "source": [
        "# printing a summary of the model\n",
        "model.summary()"
      ],
      "execution_count": 8,
      "outputs": [
        {
          "output_type": "stream",
          "text": [
            "Model: \"sequential_1\"\n",
            "_________________________________________________________________\n",
            "Layer (type)                 Output Shape              Param #   \n",
            "=================================================================\n",
            "conv2d_1 (Conv2D)            (None, 26, 26, 32)        320       \n",
            "_________________________________________________________________\n",
            "conv2d_2 (Conv2D)            (None, 24, 24, 64)        18496     \n",
            "_________________________________________________________________\n",
            "max_pooling2d_1 (MaxPooling2 (None, 12, 12, 64)        0         \n",
            "_________________________________________________________________\n",
            "dropout_1 (Dropout)          (None, 12, 12, 64)        0         \n",
            "_________________________________________________________________\n",
            "flatten_1 (Flatten)          (None, 9216)              0         \n",
            "_________________________________________________________________\n",
            "dense_1 (Dense)              (None, 128)               1179776   \n",
            "_________________________________________________________________\n",
            "dropout_2 (Dropout)          (None, 128)               0         \n",
            "_________________________________________________________________\n",
            "dense_2 (Dense)              (None, 10)                1290      \n",
            "=================================================================\n",
            "Total params: 1,199,882\n",
            "Trainable params: 1,199,882\n",
            "Non-trainable params: 0\n",
            "_________________________________________________________________\n"
          ],
          "name": "stdout"
        }
      ]
    },
    {
      "cell_type": "markdown",
      "metadata": {
        "id": "okzTwNP5kwMm",
        "colab_type": "text"
      },
      "source": [
        "Fit the Model"
      ]
    },
    {
      "cell_type": "code",
      "metadata": {
        "id": "SDTp6Diyinj7",
        "colab_type": "code",
        "colab": {
          "base_uri": "https://localhost:8080/",
          "height": 498
        },
        "outputId": "d7082634-587f-43b5-8a49-cf14fb833d1c"
      },
      "source": [
        "# train and validate the model\n",
        "model.fit(x_train, y_train,\n",
        "          batch_size=batch_size,\n",
        "          epochs=epochs,\n",
        "          verbose=1,\n",
        "          validation_data=(x_test, y_test))\n"
      ],
      "execution_count": 9,
      "outputs": [
        {
          "output_type": "stream",
          "text": [
            "Train on 60000 samples, validate on 10000 samples\n",
            "Epoch 1/12\n",
            "60000/60000 [==============================] - 5s 81us/step - loss: 0.2654 - accuracy: 0.9174 - val_loss: 0.0591 - val_accuracy: 0.9807\n",
            "Epoch 2/12\n",
            "60000/60000 [==============================] - 3s 55us/step - loss: 0.0897 - accuracy: 0.9734 - val_loss: 0.0457 - val_accuracy: 0.9857\n",
            "Epoch 3/12\n",
            "60000/60000 [==============================] - 3s 55us/step - loss: 0.0667 - accuracy: 0.9798 - val_loss: 0.0350 - val_accuracy: 0.9885\n",
            "Epoch 4/12\n",
            "60000/60000 [==============================] - 3s 55us/step - loss: 0.0531 - accuracy: 0.9844 - val_loss: 0.0329 - val_accuracy: 0.9892\n",
            "Epoch 5/12\n",
            "60000/60000 [==============================] - 3s 55us/step - loss: 0.0447 - accuracy: 0.9861 - val_loss: 0.0286 - val_accuracy: 0.9901\n",
            "Epoch 6/12\n",
            "60000/60000 [==============================] - 3s 54us/step - loss: 0.0408 - accuracy: 0.9878 - val_loss: 0.0265 - val_accuracy: 0.9915\n",
            "Epoch 7/12\n",
            "60000/60000 [==============================] - 3s 54us/step - loss: 0.0372 - accuracy: 0.9884 - val_loss: 0.0255 - val_accuracy: 0.9914\n",
            "Epoch 8/12\n",
            "60000/60000 [==============================] - 3s 55us/step - loss: 0.0326 - accuracy: 0.9897 - val_loss: 0.0268 - val_accuracy: 0.9909\n",
            "Epoch 9/12\n",
            "60000/60000 [==============================] - 3s 55us/step - loss: 0.0319 - accuracy: 0.9905 - val_loss: 0.0268 - val_accuracy: 0.9915\n",
            "Epoch 10/12\n",
            "60000/60000 [==============================] - 3s 55us/step - loss: 0.0288 - accuracy: 0.9908 - val_loss: 0.0280 - val_accuracy: 0.9912\n",
            "Epoch 11/12\n",
            "60000/60000 [==============================] - 3s 55us/step - loss: 0.0276 - accuracy: 0.9915 - val_loss: 0.0273 - val_accuracy: 0.9909\n",
            "Epoch 12/12\n",
            "60000/60000 [==============================] - 3s 55us/step - loss: 0.0255 - accuracy: 0.9922 - val_loss: 0.0283 - val_accuracy: 0.9905\n"
          ],
          "name": "stdout"
        },
        {
          "output_type": "execute_result",
          "data": {
            "text/plain": [
              "<keras.callbacks.callbacks.History at 0x7f9fe0303da0>"
            ]
          },
          "metadata": {
            "tags": []
          },
          "execution_count": 9
        }
      ]
    },
    {
      "cell_type": "markdown",
      "metadata": {
        "id": "fA30eA7tlARG",
        "colab_type": "text"
      },
      "source": [
        "Check Model Loss and Accuracy Scores"
      ]
    },
    {
      "cell_type": "code",
      "metadata": {
        "id": "8uTTsYFritQ0",
        "colab_type": "code",
        "colab": {
          "base_uri": "https://localhost:8080/",
          "height": 52
        },
        "outputId": "ebe3c749-d0db-42f0-928c-345c5a65c802"
      },
      "source": [
        "score = model.evaluate(x_test, y_test, verbose=0)\n",
        "print('Test loss:', score[0])\n",
        "print('Test accuracy:', score[1])"
      ],
      "execution_count": 10,
      "outputs": [
        {
          "output_type": "stream",
          "text": [
            "Test loss: 0.0282563278433327\n",
            "Test accuracy: 0.9904999732971191\n"
          ],
          "name": "stdout"
        }
      ]
    },
    {
      "cell_type": "markdown",
      "metadata": {
        "id": "j_Ql-oB4n-Z2",
        "colab_type": "text"
      },
      "source": [
        "## Results"
      ]
    },
    {
      "cell_type": "markdown",
      "metadata": {
        "id": "r_zxQC0L0Y9N",
        "colab_type": "text"
      },
      "source": [
        "Model achieves an accuracy of 99.21\\% on the test set, with a loss of 2.60\\%."
      ]
    },
    {
      "cell_type": "code",
      "metadata": {
        "id": "69vX8UTjabMg",
        "colab_type": "code",
        "colab": {
          "base_uri": "https://localhost:8080/",
          "height": 70
        },
        "outputId": "25ebfe58-beb6-4d9d-ecdb-e07a3d99bb23"
      },
      "source": [
        "predictions = model.predict(x_test[0:100])\n",
        "\n",
        "predictions[0]\n",
        "\n"
      ],
      "execution_count": 11,
      "outputs": [
        {
          "output_type": "execute_result",
          "data": {
            "text/plain": [
              "array([1.1011269e-12, 2.2215740e-11, 6.5773810e-11, 9.4580188e-10,\n",
              "       2.7317709e-14, 3.9572969e-14, 2.0455510e-16, 1.0000000e+00,\n",
              "       4.1085405e-13, 8.2406838e-11], dtype=float32)"
            ]
          },
          "metadata": {
            "tags": []
          },
          "execution_count": 11
        }
      ]
    },
    {
      "cell_type": "code",
      "metadata": {
        "id": "9gGCkCt-gRBV",
        "colab_type": "code",
        "colab": {
          "base_uri": "https://localhost:8080/",
          "height": 300
        },
        "outputId": "461c2fb9-ecea-49da-cbfd-9ec5f8315d03"
      },
      "source": [
        "# show the image for element 50\n",
        "element =  np.random.randint(len(predictions))\n",
        "plt.imshow(x_test[element].reshape(28,28))\n",
        "plt.show()\n",
        "\n",
        "# show the mode's prediction for a random element from the test set\n",
        "print(\"Label for the element\", element,\":\", y_test[element])\n",
        "print(\"Prediction for the element:\", np.argmax(predictions[element]))"
      ],
      "execution_count": 12,
      "outputs": [
        {
          "output_type": "display_data",
          "data": {
            "image/png": "[encoded data removed]",
            "text/plain": [
              "<Figure size 432x288 with 1 Axes>"
            ]
          },
          "metadata": {
            "tags": [],
            "needs_background": "light"
          }
        },
        {
          "output_type": "stream",
          "text": [
            "Label for the element 66 : [0. 0. 0. 0. 0. 0. 1. 0. 0. 0.]\n",
            "Prediction for the element: 6\n"
          ],
          "name": "stdout"
        }
      ]
    },
    {
      "cell_type": "code",
      "metadata": {
        "id": "_sgECmWzYN-H",
        "colab_type": "code",
        "colab": {}
      },
      "source": [
        ""
      ],
      "execution_count": 12,
      "outputs": []
    }
  ]
}