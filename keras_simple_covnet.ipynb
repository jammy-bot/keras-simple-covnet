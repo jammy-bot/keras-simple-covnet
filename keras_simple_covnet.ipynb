{
  "nbformat": 4,
  "nbformat_minor": 0,
  "metadata": {
    "colab": {
      "name": "keras-simple-covnet.ipynb",
      "provenance": [],
      "collapsed_sections": [],
      "machine_shape": "hm",
      "authorship_tag": "ABX9TyOBddmV9z+dv1305CjCQGPD",
      "include_colab_link": true
    },
    "kernelspec": {
      "name": "python3",
      "display_name": "Python 3"
    },
    "accelerator": "GPU"
  },
  "cells": [
    {
      "cell_type": "markdown",
      "metadata": {
        "id": "view-in-github",
        "colab_type": "text"
      },
      "source": [
        "<a href=\"https://colab.research.google.com/github/jammy-bot/keras-simple-covnet/blob/master/keras_simple_covnet.ipynb\" target=\"_parent\"><img src=\"https://colab.research.google.com/assets/colab-badge.svg\" alt=\"Open In Colab\"/></a>"
      ]
    },
    {
      "cell_type": "markdown",
      "metadata": {
        "id": "0NjWJM4W25me",
        "colab_type": "text"
      },
      "source": [
        "Build a Neural Network for the MNIST image classification dataset, with a hidden Convolutional layer, a hidden Dense layer, and Dropout layers."
      ]
    },
    {
      "cell_type": "code",
      "metadata": {
        "id": "eSXQOoXJzhwY",
        "colab_type": "code",
        "colab": {
          "base_uri": "https://localhost:8080/",
          "height": 603
        },
        "outputId": "a7130e8c-ea10-473e-d36f-798d0b7423f4"
      },
      "source": [
        "from __future__ import print_function\n",
        "import keras\n",
        "from keras.datasets import mnist\n",
        "from keras.models import Sequential\n",
        "from keras.layers import Dense, Dropout, Flatten\n",
        "from keras.layers import Conv2D, MaxPooling2D\n",
        "from keras import backend as K\n",
        "\n",
        "batch_size = 128\n",
        "num_classes = 10\n",
        "epochs = 12\n",
        "\n",
        "# inputting image dimensions\n",
        "img_rows, img_cols = 28, 28\n",
        "\n",
        "# splitting the data between train and test sets\n",
        "(x_train, y_train), (x_test, y_test) = mnist.load_data()\n",
        "\n",
        "## reshaping (conditionally)\n",
        "if K.image_data_format() == 'channels_first':\n",
        "    x_train = x_train.reshape(x_train.shape[0], 1, img_rows, img_cols)\n",
        "    x_test = x_test.reshape(x_test.shape[0], 1, img_rows, img_cols)\n",
        "    input_shape = (1, img_rows, img_cols)\n",
        "else:\n",
        "    x_train = x_train.reshape(x_train.shape[0], img_rows, img_cols, 1)\n",
        "    x_test = x_test.reshape(x_test.shape[0], img_rows, img_cols, 1)\n",
        "    input_shape = (img_rows, img_cols, 1)\n",
        "\n",
        "x_train = x_train.astype('float32')\n",
        "x_test = x_test.astype('float32')\n",
        "x_train /= 255\n",
        "x_test /= 255\n",
        "print('x_train shape:', x_train.shape)\n",
        "print(x_train.shape[0], 'train samples')\n",
        "print(x_test.shape[0], 'test samples')\n",
        "\n",
        "# converting class vectors to binary class matrices\n",
        "y_train = keras.utils.to_categorical(y_train, num_classes)\n",
        "y_test = keras.utils.to_categorical(y_test, num_classes)\n",
        "\n",
        "# building the network\n",
        "model = Sequential()\n",
        "model.add(Conv2D(32, kernel_size=(3, 3),\n",
        "                 activation='relu',\n",
        "                 input_shape=input_shape))\n",
        "model.add(Conv2D(64, (3, 3), activation='relu'))\n",
        "model.add(MaxPooling2D(pool_size=(2, 2)))\n",
        "model.add(Dropout(0.25))\n",
        "model.add(Flatten())\n",
        "model.add(Dense(128, activation='relu'))\n",
        "model.add(Dropout(0.5))\n",
        "model.add(Dense(num_classes, activation='softmax'))\n",
        "\n",
        "model.compile(loss=keras.losses.categorical_crossentropy,\n",
        "              optimizer=keras.optimizers.Adadelta(),\n",
        "              metrics=['accuracy'])\n",
        "\n",
        "model.fit(x_train, y_train,\n",
        "          batch_size=batch_size,\n",
        "          epochs=epochs,\n",
        "          verbose=1,\n",
        "          validation_data=(x_test, y_test))\n",
        "score = model.evaluate(x_test, y_test, verbose=0)\n",
        "print('Test loss:', score[0])\n",
        "print('Test accuracy:', score[1])"
      ],
      "execution_count": 1,
      "outputs": [
        {
          "output_type": "stream",
          "text": [
            "Using TensorFlow backend.\n"
          ],
          "name": "stderr"
        },
        {
          "output_type": "stream",
          "text": [
            "Downloading data from https://s3.amazonaws.com/img-datasets/mnist.npz\n",
            "11493376/11490434 [==============================] - 0s 0us/step\n",
            "x_train shape: (60000, 28, 28, 1)\n",
            "60000 train samples\n",
            "10000 test samples\n",
            "Train on 60000 samples, validate on 10000 samples\n",
            "Epoch 1/12\n",
            "60000/60000 [==============================] - 10s 168us/step - loss: 0.2660 - accuracy: 0.9185 - val_loss: 0.0574 - val_accuracy: 0.9823\n",
            "Epoch 2/12\n",
            "60000/60000 [==============================] - 4s 61us/step - loss: 0.0902 - accuracy: 0.9725 - val_loss: 0.0437 - val_accuracy: 0.9859\n",
            "Epoch 3/12\n",
            "60000/60000 [==============================] - 4s 61us/step - loss: 0.0663 - accuracy: 0.9804 - val_loss: 0.0353 - val_accuracy: 0.9882\n",
            "Epoch 4/12\n",
            "60000/60000 [==============================] - 4s 61us/step - loss: 0.0543 - accuracy: 0.9832 - val_loss: 0.0315 - val_accuracy: 0.9896\n",
            "Epoch 5/12\n",
            "60000/60000 [==============================] - 4s 61us/step - loss: 0.0469 - accuracy: 0.9864 - val_loss: 0.0309 - val_accuracy: 0.9894\n",
            "Epoch 6/12\n",
            "60000/60000 [==============================] - 4s 61us/step - loss: 0.0411 - accuracy: 0.9872 - val_loss: 0.0299 - val_accuracy: 0.9888\n",
            "Epoch 7/12\n",
            "60000/60000 [==============================] - 4s 66us/step - loss: 0.0365 - accuracy: 0.9885 - val_loss: 0.0275 - val_accuracy: 0.9907\n",
            "Epoch 8/12\n",
            "60000/60000 [==============================] - 4s 62us/step - loss: 0.0344 - accuracy: 0.9893 - val_loss: 0.0333 - val_accuracy: 0.9900\n",
            "Epoch 9/12\n",
            "60000/60000 [==============================] - 4s 61us/step - loss: 0.0301 - accuracy: 0.9908 - val_loss: 0.0268 - val_accuracy: 0.9910\n",
            "Epoch 10/12\n",
            "60000/60000 [==============================] - 4s 61us/step - loss: 0.0285 - accuracy: 0.9907 - val_loss: 0.0258 - val_accuracy: 0.9916\n",
            "Epoch 11/12\n",
            "60000/60000 [==============================] - 4s 61us/step - loss: 0.0291 - accuracy: 0.9911 - val_loss: 0.0254 - val_accuracy: 0.9920\n",
            "Epoch 12/12\n",
            "60000/60000 [==============================] - 4s 61us/step - loss: 0.0244 - accuracy: 0.9925 - val_loss: 0.0260 - val_accuracy: 0.9921\n",
            "Test loss: 0.02602386785076742\n",
            "Test accuracy: 0.9921000003814697\n"
          ],
          "name": "stdout"
        }
      ]
    },
    {
      "cell_type": "code",
      "metadata": {
        "id": "r_zxQC0L0Y9N",
        "colab_type": "code",
        "colab": {}
      },
      "source": [
        ""
      ],
      "execution_count": 0,
      "outputs": []
    }
  ]
}